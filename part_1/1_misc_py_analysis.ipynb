{
 "cells": [
  {
   "cell_type": "markdown",
   "metadata": {},
   "source": [
    "# misc.py 간단한 분석\n",
    "## Option class 분석"
   ]
  },
  {
   "cell_type": "code",
   "execution_count": null,
   "metadata": {},
   "outputs": [],
   "source": [
    "# 간단한 json 읽기\n",
    "import json\n",
    "\n",
    "with open('../config.json') as json_file :\n",
    "    json_data = json.load(json_file)\n",
    "    print(type(json_data))\n",
    "    #print(json_data['train_data_list'][0])\n",
    "json_data"
   ]
  },
  {
   "cell_type": "code",
   "execution_count": null,
   "metadata": {
    "code_folding": [
     1
    ]
   },
   "outputs": [],
   "source": [
    "class Option(dict):\n",
    "    def __init__(self, *args, **kwargs):\n",
    "        import json\n",
    "        import six\n",
    "        args = [arg if isinstance(arg, dict) else json.loads(open(arg).read())\n",
    "                for arg in args]\n",
    "        super(Option, self).__init__(*args, **kwargs)\n",
    "        for arg in args:\n",
    "            if isinstance(arg, dict):\n",
    "                for k, v in six.iteritems(arg):\n",
    "                    if isinstance(v, dict):\n",
    "                        self[k] = Option(v)\n",
    "                    else:\n",
    "                        self[k] = v\n",
    "\n",
    "        if kwargs:\n",
    "            for k, v in six.iteritems(kwargs):\n",
    "                if isinstance(v, dict):\n",
    "                    self[k] = Option(v)\n",
    "                else:\n",
    "                    self[k] = v\n",
    "\n",
    "    def __getattr__(self, attr):\n",
    "        return self.get(attr)\n",
    "\n",
    "    def __setattr__(self, key, value):\n",
    "        self.__setitem__(key, value)\n",
    "\n",
    "    def __setitem__(self, key, value):\n",
    "        super(Option, self).__setitem__(key, value)\n",
    "        self.__dict__.update({key: value})\n",
    "\n",
    "    def __delattr__(self, item):\n",
    "        self.__delitem__(item)\n",
    "\n",
    "    def __delitem__(self, key):\n",
    "        super(Option, self).__delitem__(key)\n",
    "        del self.__dict__[key]\n",
    "opt = Option('../config.json')\n",
    "opt"
   ]
  },
  {
   "cell_type": "code",
   "execution_count": null,
   "metadata": {},
   "outputs": [],
   "source": [
    "opt.num_workers"
   ]
  },
  {
   "cell_type": "code",
   "execution_count": null,
   "metadata": {},
   "outputs": [],
   "source": [
    "class My_Option(dict):\n",
    "    def __init__(self,json_file):\n",
    "        import json\n",
    "        with open(json_file) as f :\n",
    "            json_data  = json.load(f)\n",
    "            for key, value in json_data.items() :\n",
    "                self[key] = value\n",
    "    def __getattr__(self, attr):\n",
    "        return self[attr] \n",
    "    \n",
    "opt = My_Option('../config.json')\n",
    "opt"
   ]
  },
  {
   "cell_type": "code",
   "execution_count": null,
   "metadata": {},
   "outputs": [],
   "source": [
    "opt.num_workers"
   ]
  },
  {
   "cell_type": "markdown",
   "metadata": {},
   "source": [
    "## get_logger 분석"
   ]
  },
  {
   "cell_type": "code",
   "execution_count": null,
   "metadata": {},
   "outputs": [],
   "source": [
    "def get_logger(name): # name=__file__\n",
    "    import logging\n",
    "    #import logging.handlers\n",
    "    logger = logging.getLogger(name)\n",
    "    if logger.handlers:\n",
    "        return logger\n",
    "\n",
    "    logger.setLevel(logging.DEBUG)\n",
    "\n",
    "    sh = logging.StreamHandler()\n",
    "    sh.setLevel(logging.DEBUG)\n",
    "    formatter = logging.Formatter('[%(levelname)-8s] %(asctime)s [%(filename)s] [%(funcName)s:%(lineno)d] %(message)s', '%Y-%m-%d %H:%M:%S')\n",
    "    sh.setFormatter(formatter)\n",
    "\n",
    "    logger.addHandler(sh)\n",
    "    return logger\n",
    "logger = get_logger('data')\n",
    "logger"
   ]
  },
  {
   "cell_type": "code",
   "execution_count": null,
   "metadata": {},
   "outputs": [],
   "source": [
    "logger.info('334')"
   ]
  },
  {
   "cell_type": "code",
   "execution_count": 1,
   "metadata": {},
   "outputs": [
    {
     "data": {
      "text/plain": [
       "<logging.Logger at 0x7fa34c7c4a90>"
      ]
     },
     "execution_count": 1,
     "metadata": {},
     "output_type": "execute_result"
    }
   ],
   "source": [
    "#https://hwangheek.github.io/2019/python-logging/\n",
    "#https://hamait.tistory.com/880\n",
    "def My_get_logger(name): # name=__file__\n",
    "    import logging\n",
    "    logger = logging.getLogger(name)\n",
    "    if logger.handlers:\n",
    "        return logger  \n",
    "    logger.setLevel(logging.INFO)\n",
    "    formatter = logging.Formatter('[%(levelname)-8s] %(asctime)s [%(filename)s] [%(funcName)s:%(lineno)d] %(message)s', '%Y-%m-%d %H:%M:%S')\n",
    "    console_handler = logging.StreamHandler()\n",
    "    console_handler.setFormatter(formatter)\n",
    "    logger.addHandler(console_handler)\n",
    "    return logger\n",
    "logger = My_get_logger('data1')\n",
    "logger"
   ]
  },
  {
   "cell_type": "code",
   "execution_count": 2,
   "metadata": {},
   "outputs": [
    {
     "name": "stderr",
     "output_type": "stream",
     "text": [
      "[INFO    ] 2019-12-04 00:49:33 [<ipython-input-2-b581bcaec62b>] [<module>:1] 334\n"
     ]
    }
   ],
   "source": [
    "logger.info('334')"
   ]
  },
  {
   "cell_type": "code",
   "execution_count": null,
   "metadata": {},
   "outputs": [],
   "source": [
    "logger.handlers"
   ]
  },
  {
   "cell_type": "code",
   "execution_count": null,
   "metadata": {},
   "outputs": [],
   "source": []
  }
 ],
 "metadata": {
  "kernelspec": {
   "display_name": "Python 3",
   "language": "python",
   "name": "python3"
  },
  "language_info": {
   "codemirror_mode": {
    "name": "ipython",
    "version": 3
   },
   "file_extension": ".py",
   "mimetype": "text/x-python",
   "name": "python",
   "nbconvert_exporter": "python",
   "pygments_lexer": "ipython3",
   "version": "3.5.2"
  },
  "toc": {
   "base_numbering": 1,
   "nav_menu": {},
   "number_sections": true,
   "sideBar": true,
   "skip_h1_title": false,
   "title_cell": "Table of Contents",
   "title_sidebar": "Contents",
   "toc_cell": false,
   "toc_position": {},
   "toc_section_display": true,
   "toc_window_display": false
  },
  "varInspector": {
   "cols": {
    "lenName": 16,
    "lenType": 16,
    "lenVar": 40
   },
   "kernels_config": {
    "python": {
     "delete_cmd_postfix": "",
     "delete_cmd_prefix": "del ",
     "library": "var_list.py",
     "varRefreshCmd": "print(var_dic_list())"
    },
    "r": {
     "delete_cmd_postfix": ") ",
     "delete_cmd_prefix": "rm(",
     "library": "var_list.r",
     "varRefreshCmd": "cat(var_dic_list()) "
    }
   },
   "types_to_exclude": [
    "module",
    "function",
    "builtin_function_or_method",
    "instance",
    "_Feature"
   ],
   "window_display": false
  }
 },
 "nbformat": 4,
 "nbformat_minor": 2
}
