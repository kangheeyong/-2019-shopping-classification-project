{
 "cells": [
  {
   "cell_type": "markdown",
   "metadata": {},
   "source": [
    "# data.py 간단 분석\n",
    "## build_y_vocab"
   ]
  },
  {
   "cell_type": "code",
   "execution_count": 1,
   "metadata": {},
   "outputs": [],
   "source": [
    "import tqdm\n",
    "import h5py  \n",
    "from misc import get_logger, Option\n",
    "opt = Option('./config.json')  "
   ]
  },
  {
   "cell_type": "code",
   "execution_count": 2,
   "metadata": {},
   "outputs": [],
   "source": [
    "path = opt.train_data_list[0]\n",
    "h = h5py.File(path, 'r')['train']\n"
   ]
  },
  {
   "cell_type": "code",
   "execution_count": 3,
   "metadata": {},
   "outputs": [],
   "source": [
    "def get_class(h, i):\n",
    "        b = h['bcateid'][i]\n",
    "        m = h['mcateid'][i]\n",
    "        s = h['scateid'][i]\n",
    "        d = h['dcateid'][i]\n",
    "        return '%s>%s>%s>%s' % (b, m, s, d)"
   ]
  },
  {
   "cell_type": "code",
   "execution_count": 4,
   "metadata": {},
   "outputs": [
    {
     "name": "stderr",
     "output_type": "stream",
     "text": [
      "100%|██████████| 10/10 [00:00<00:00, 563.80it/s]\n"
     ]
    },
    {
     "data": {
      "text/plain": [
       "{'10>9>11>-1': 4,\n",
       " '11>10>12>-1': 5,\n",
       " '11>15>17>-1': 9,\n",
       " '12>11>13>-1': 6,\n",
       " '13>12>14>-1': 7,\n",
       " '14>13>15>-1': 8,\n",
       " '1>1>2>-1': 0,\n",
       " '3>3>4>-1': 1,\n",
       " '5>5>6>-1': 2,\n",
       " '7>7>8>-1': 3}"
      ]
     },
     "execution_count": 4,
     "metadata": {},
     "output_type": "execute_result"
    }
   ],
   "source": [
    "y_vocab = {}\n",
    "\n",
    "sz = 10#h['pid'].shape[0]\n",
    "\n",
    "for i in tqdm.tqdm(range(sz), mininterval=1):\n",
    "    class_name = get_class(h, i)\n",
    "    if class_name not in y_vocab:\n",
    "        y_vocab[class_name] = len(y_vocab)\n",
    "y_vocab\n",
    "\n"
   ]
  },
  {
   "cell_type": "code",
   "execution_count": 5,
   "metadata": {},
   "outputs": [],
   "source": [
    "y_vocab_1 = set()   \n",
    "for k in y_vocab.keys():\n",
    "    y_vocab_1.add(k)\n",
    "    \n",
    "y_vocab_2 = {y: idx for idx, y in enumerate(y_vocab_1)}"
   ]
  },
  {
   "cell_type": "code",
   "execution_count": 6,
   "metadata": {},
   "outputs": [
    {
     "data": {
      "text/plain": [
       "{'10>9>11>-1',\n",
       " '11>10>12>-1',\n",
       " '11>15>17>-1',\n",
       " '12>11>13>-1',\n",
       " '13>12>14>-1',\n",
       " '14>13>15>-1',\n",
       " '1>1>2>-1',\n",
       " '3>3>4>-1',\n",
       " '5>5>6>-1',\n",
       " '7>7>8>-1'}"
      ]
     },
     "execution_count": 6,
     "metadata": {},
     "output_type": "execute_result"
    }
   ],
   "source": [
    "y_vocab_1"
   ]
  },
  {
   "cell_type": "code",
   "execution_count": 7,
   "metadata": {},
   "outputs": [
    {
     "data": {
      "text/plain": [
       "{'10>9>11>-1': 2,\n",
       " '11>10>12>-1': 7,\n",
       " '11>15>17>-1': 4,\n",
       " '12>11>13>-1': 1,\n",
       " '13>12>14>-1': 0,\n",
       " '14>13>15>-1': 6,\n",
       " '1>1>2>-1': 3,\n",
       " '3>3>4>-1': 5,\n",
       " '5>5>6>-1': 8,\n",
       " '7>7>8>-1': 9}"
      ]
     },
     "execution_count": 7,
     "metadata": {},
     "output_type": "execute_result"
    }
   ],
   "source": [
    "y_vocab_2"
   ]
  },
  {
   "cell_type": "code",
   "execution_count": null,
   "metadata": {},
   "outputs": [],
   "source": []
  }
 ],
 "metadata": {
  "kernelspec": {
   "display_name": "Python 3",
   "language": "python",
   "name": "python3"
  },
  "language_info": {
   "codemirror_mode": {
    "name": "ipython",
    "version": 3
   },
   "file_extension": ".py",
   "mimetype": "text/x-python",
   "name": "python",
   "nbconvert_exporter": "python",
   "pygments_lexer": "ipython3",
   "version": "3.5.2"
  },
  "toc": {
   "base_numbering": 1,
   "nav_menu": {},
   "number_sections": true,
   "sideBar": true,
   "skip_h1_title": false,
   "title_cell": "Table of Contents",
   "title_sidebar": "Contents",
   "toc_cell": false,
   "toc_position": {},
   "toc_section_display": true,
   "toc_window_display": false
  },
  "varInspector": {
   "cols": {
    "lenName": 16,
    "lenType": 16,
    "lenVar": 40
   },
   "kernels_config": {
    "python": {
     "delete_cmd_postfix": "",
     "delete_cmd_prefix": "del ",
     "library": "var_list.py",
     "varRefreshCmd": "print(var_dic_list())"
    },
    "r": {
     "delete_cmd_postfix": ") ",
     "delete_cmd_prefix": "rm(",
     "library": "var_list.r",
     "varRefreshCmd": "cat(var_dic_list()) "
    }
   },
   "types_to_exclude": [
    "module",
    "function",
    "builtin_function_or_method",
    "instance",
    "_Feature"
   ],
   "window_display": false
  }
 },
 "nbformat": 4,
 "nbformat_minor": 2
}
